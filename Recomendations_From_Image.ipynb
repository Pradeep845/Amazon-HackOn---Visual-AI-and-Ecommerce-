{
  "nbformat": 4,
  "nbformat_minor": 0,
  "metadata": {
    "colab": {
      "provenance": []
    },
    "kernelspec": {
      "name": "python3",
      "display_name": "Python 3"
    },
    "language_info": {
      "name": "python"
    }
  },
  "cells": [
    {
      "cell_type": "code",
      "execution_count": 3,
      "metadata": {
        "colab": {
          "base_uri": "https://localhost:8080/"
        },
        "id": "Ptn9D2igN8Hz",
        "outputId": "42ef8692-4a11-40b1-c5ac-9cf4353e10cc"
      },
      "outputs": [
        {
          "output_type": "stream",
          "name": "stdout",
          "text": [
            "Requirement already satisfied: tensorflow in /usr/local/lib/python3.10/dist-packages (2.15.0)\n",
            "Requirement already satisfied: numpy in /usr/local/lib/python3.10/dist-packages (1.25.2)\n",
            "Requirement already satisfied: pandas in /usr/local/lib/python3.10/dist-packages (2.0.3)\n",
            "Requirement already satisfied: scikit-learn in /usr/local/lib/python3.10/dist-packages (1.2.2)\n",
            "Requirement already satisfied: opencv-python-headless in /usr/local/lib/python3.10/dist-packages (4.10.0.84)\n",
            "Requirement already satisfied: absl-py>=1.0.0 in /usr/local/lib/python3.10/dist-packages (from tensorflow) (1.4.0)\n",
            "Requirement already satisfied: astunparse>=1.6.0 in /usr/local/lib/python3.10/dist-packages (from tensorflow) (1.6.3)\n",
            "Requirement already satisfied: flatbuffers>=23.5.26 in /usr/local/lib/python3.10/dist-packages (from tensorflow) (24.3.25)\n",
            "Requirement already satisfied: gast!=0.5.0,!=0.5.1,!=0.5.2,>=0.2.1 in /usr/local/lib/python3.10/dist-packages (from tensorflow) (0.5.4)\n",
            "Requirement already satisfied: google-pasta>=0.1.1 in /usr/local/lib/python3.10/dist-packages (from tensorflow) (0.2.0)\n",
            "Requirement already satisfied: h5py>=2.9.0 in /usr/local/lib/python3.10/dist-packages (from tensorflow) (3.9.0)\n",
            "Requirement already satisfied: libclang>=13.0.0 in /usr/local/lib/python3.10/dist-packages (from tensorflow) (18.1.1)\n",
            "Requirement already satisfied: ml-dtypes~=0.2.0 in /usr/local/lib/python3.10/dist-packages (from tensorflow) (0.2.0)\n",
            "Requirement already satisfied: opt-einsum>=2.3.2 in /usr/local/lib/python3.10/dist-packages (from tensorflow) (3.3.0)\n",
            "Requirement already satisfied: packaging in /usr/local/lib/python3.10/dist-packages (from tensorflow) (24.1)\n",
            "Requirement already satisfied: protobuf!=4.21.0,!=4.21.1,!=4.21.2,!=4.21.3,!=4.21.4,!=4.21.5,<5.0.0dev,>=3.20.3 in /usr/local/lib/python3.10/dist-packages (from tensorflow) (3.20.3)\n",
            "Requirement already satisfied: setuptools in /usr/local/lib/python3.10/dist-packages (from tensorflow) (67.7.2)\n",
            "Requirement already satisfied: six>=1.12.0 in /usr/local/lib/python3.10/dist-packages (from tensorflow) (1.16.0)\n",
            "Requirement already satisfied: termcolor>=1.1.0 in /usr/local/lib/python3.10/dist-packages (from tensorflow) (2.4.0)\n",
            "Requirement already satisfied: typing-extensions>=3.6.6 in /usr/local/lib/python3.10/dist-packages (from tensorflow) (4.12.2)\n",
            "Requirement already satisfied: wrapt<1.15,>=1.11.0 in /usr/local/lib/python3.10/dist-packages (from tensorflow) (1.14.1)\n",
            "Requirement already satisfied: tensorflow-io-gcs-filesystem>=0.23.1 in /usr/local/lib/python3.10/dist-packages (from tensorflow) (0.37.0)\n",
            "Requirement already satisfied: grpcio<2.0,>=1.24.3 in /usr/local/lib/python3.10/dist-packages (from tensorflow) (1.64.1)\n",
            "Requirement already satisfied: tensorboard<2.16,>=2.15 in /usr/local/lib/python3.10/dist-packages (from tensorflow) (2.15.2)\n",
            "Requirement already satisfied: tensorflow-estimator<2.16,>=2.15.0 in /usr/local/lib/python3.10/dist-packages (from tensorflow) (2.15.0)\n",
            "Requirement already satisfied: keras<2.16,>=2.15.0 in /usr/local/lib/python3.10/dist-packages (from tensorflow) (2.15.0)\n",
            "Requirement already satisfied: python-dateutil>=2.8.2 in /usr/local/lib/python3.10/dist-packages (from pandas) (2.8.2)\n",
            "Requirement already satisfied: pytz>=2020.1 in /usr/local/lib/python3.10/dist-packages (from pandas) (2023.4)\n",
            "Requirement already satisfied: tzdata>=2022.1 in /usr/local/lib/python3.10/dist-packages (from pandas) (2024.1)\n",
            "Requirement already satisfied: scipy>=1.3.2 in /usr/local/lib/python3.10/dist-packages (from scikit-learn) (1.11.4)\n",
            "Requirement already satisfied: joblib>=1.1.1 in /usr/local/lib/python3.10/dist-packages (from scikit-learn) (1.4.2)\n",
            "Requirement already satisfied: threadpoolctl>=2.0.0 in /usr/local/lib/python3.10/dist-packages (from scikit-learn) (3.5.0)\n",
            "Requirement already satisfied: wheel<1.0,>=0.23.0 in /usr/local/lib/python3.10/dist-packages (from astunparse>=1.6.0->tensorflow) (0.43.0)\n",
            "Requirement already satisfied: google-auth<3,>=1.6.3 in /usr/local/lib/python3.10/dist-packages (from tensorboard<2.16,>=2.15->tensorflow) (2.27.0)\n",
            "Requirement already satisfied: google-auth-oauthlib<2,>=0.5 in /usr/local/lib/python3.10/dist-packages (from tensorboard<2.16,>=2.15->tensorflow) (1.2.0)\n",
            "Requirement already satisfied: markdown>=2.6.8 in /usr/local/lib/python3.10/dist-packages (from tensorboard<2.16,>=2.15->tensorflow) (3.6)\n",
            "Requirement already satisfied: requests<3,>=2.21.0 in /usr/local/lib/python3.10/dist-packages (from tensorboard<2.16,>=2.15->tensorflow) (2.31.0)\n",
            "Requirement already satisfied: tensorboard-data-server<0.8.0,>=0.7.0 in /usr/local/lib/python3.10/dist-packages (from tensorboard<2.16,>=2.15->tensorflow) (0.7.2)\n",
            "Requirement already satisfied: werkzeug>=1.0.1 in /usr/local/lib/python3.10/dist-packages (from tensorboard<2.16,>=2.15->tensorflow) (3.0.3)\n",
            "Requirement already satisfied: cachetools<6.0,>=2.0.0 in /usr/local/lib/python3.10/dist-packages (from google-auth<3,>=1.6.3->tensorboard<2.16,>=2.15->tensorflow) (5.3.3)\n",
            "Requirement already satisfied: pyasn1-modules>=0.2.1 in /usr/local/lib/python3.10/dist-packages (from google-auth<3,>=1.6.3->tensorboard<2.16,>=2.15->tensorflow) (0.4.0)\n",
            "Requirement already satisfied: rsa<5,>=3.1.4 in /usr/local/lib/python3.10/dist-packages (from google-auth<3,>=1.6.3->tensorboard<2.16,>=2.15->tensorflow) (4.9)\n",
            "Requirement already satisfied: requests-oauthlib>=0.7.0 in /usr/local/lib/python3.10/dist-packages (from google-auth-oauthlib<2,>=0.5->tensorboard<2.16,>=2.15->tensorflow) (1.3.1)\n",
            "Requirement already satisfied: charset-normalizer<4,>=2 in /usr/local/lib/python3.10/dist-packages (from requests<3,>=2.21.0->tensorboard<2.16,>=2.15->tensorflow) (3.3.2)\n",
            "Requirement already satisfied: idna<4,>=2.5 in /usr/local/lib/python3.10/dist-packages (from requests<3,>=2.21.0->tensorboard<2.16,>=2.15->tensorflow) (3.7)\n",
            "Requirement already satisfied: urllib3<3,>=1.21.1 in /usr/local/lib/python3.10/dist-packages (from requests<3,>=2.21.0->tensorboard<2.16,>=2.15->tensorflow) (2.0.7)\n",
            "Requirement already satisfied: certifi>=2017.4.17 in /usr/local/lib/python3.10/dist-packages (from requests<3,>=2.21.0->tensorboard<2.16,>=2.15->tensorflow) (2024.6.2)\n",
            "Requirement already satisfied: MarkupSafe>=2.1.1 in /usr/local/lib/python3.10/dist-packages (from werkzeug>=1.0.1->tensorboard<2.16,>=2.15->tensorflow) (2.1.5)\n",
            "Requirement already satisfied: pyasn1<0.7.0,>=0.4.6 in /usr/local/lib/python3.10/dist-packages (from pyasn1-modules>=0.2.1->google-auth<3,>=1.6.3->tensorboard<2.16,>=2.15->tensorflow) (0.6.0)\n",
            "Requirement already satisfied: oauthlib>=3.0.0 in /usr/local/lib/python3.10/dist-packages (from requests-oauthlib>=0.7.0->google-auth-oauthlib<2,>=0.5->tensorboard<2.16,>=2.15->tensorflow) (3.2.2)\n"
          ]
        }
      ],
      "source": [
        "!pip install tensorflow numpy pandas scikit-learn opencv-python-headless"
      ]
    },
    {
      "cell_type": "code",
      "source": [
        "import cv2\n",
        "import tensorflow as tf\n",
        "import numpy as np\n",
        "from tensorflow.keras.applications import MobileNetV2\n",
        "from tensorflow.keras.applications.mobilenet_v2 import preprocess_input, decode_predictions\n",
        "from sklearn.neighbors import NearestNeighbors\n",
        "import pandas as pd\n"
      ],
      "metadata": {
        "id": "_3Jl_B78OLXl"
      },
      "execution_count": 4,
      "outputs": []
    },
    {
      "cell_type": "code",
      "source": [
        "model = MobileNetV2(weights='imagenet')\n"
      ],
      "metadata": {
        "colab": {
          "base_uri": "https://localhost:8080/"
        },
        "id": "JVa2s0DRQ05F",
        "outputId": "b43e528d-4424-471a-a649-370295ba0167"
      },
      "execution_count": 5,
      "outputs": [
        {
          "output_type": "stream",
          "name": "stdout",
          "text": [
            "Downloading data from https://storage.googleapis.com/tensorflow/keras-applications/mobilenet_v2/mobilenet_v2_weights_tf_dim_ordering_tf_kernels_1.0_224.h5\n",
            "14536120/14536120 [==============================] - 0s 0us/step\n"
          ]
        }
      ]
    },
    {
      "cell_type": "code",
      "source": [
        "def recognize_image(image_path):\n",
        "    image = cv2.imread(image_path)\n",
        "    image_resized = cv2.resize(image, (224, 224))\n",
        "    image_array = np.expand_dims(image_resized, axis=0)\n",
        "    image_preprocessed = preprocess_input(image_array)\n",
        "\n",
        "    predictions = model.predict(image_preprocessed)\n",
        "    decoded_predictions = decode_predictions(predictions, top=5)[0]\n",
        "\n",
        "    return decoded_predictions\n"
      ],
      "metadata": {
        "id": "hVC8Xjk3Q3iW"
      },
      "execution_count": 6,
      "outputs": []
    },
    {
      "cell_type": "code",
      "source": [
        "\n",
        "product_db = pd.DataFrame({\n",
        "    'product_id': [1, 2, 3, 4, 5],\n",
        "    'product_name': ['Shirt', 'Jeans', 'Shoes', 'Hat', 'Jacket'],\n",
        "    'features': [\n",
        "        np.array([0.1, 0.2, 0.3, 0.4]),  # Example feature vectors\n",
        "        np.array([0.2, 0.1, 0.4, 0.3]),\n",
        "        np.array([0.3, 0.4, 0.1, 0.2]),\n",
        "        np.array([0.4, 0.3, 0.2, 0.1]),\n",
        "        np.array([0.5, 0.5, 0.5, 0.5])\n",
        "    ]\n",
        "})\n",
        "\n",
        "\n",
        "def search_product(query_features, k=5):\n",
        "    nbrs = NearestNeighbors(n_neighbors=k, algorithm='ball_tree').fit(list(product_db['features']))\n",
        "    distances, indices = nbrs.kneighbors([query_features])\n",
        "\n",
        "    return product_db.iloc[indices[0]]\n"
      ],
      "metadata": {
        "id": "b3PAoay0Q66Q"
      },
      "execution_count": 13,
      "outputs": []
    },
    {
      "cell_type": "code",
      "source": [
        "# Example user purchase history\n",
        "user_history = pd.DataFrame({\n",
        "    'user_id': [1, 1, 1, 2, 2],\n",
        "    'product_id': [1, 2, 3, 4, 5]\n",
        "})\n",
        "\n",
        "def recommend_products(user_id, n_recommendations=3):\n",
        "    user_purchases = user_history[user_history['user_id'] == user_id]['product_id']\n",
        "    user_features = product_db[product_db['product_id'].isin(user_purchases)]['features'].mean()\n",
        "\n",
        "    nbrs = NearestNeighbors(n_neighbors=n_recommendations, algorithm='ball_tree').fit(list(product_db['features']))\n",
        "    distances, indices = nbrs.kneighbors([user_features])\n",
        "\n",
        "    return product_db.iloc[indices[0]]\n"
      ],
      "metadata": {
        "id": "whdMH9DoQ-Pu"
      },
      "execution_count": 14,
      "outputs": []
    },
    {
      "cell_type": "code",
      "source": [
        "def identify_items_in_video(video_path):\n",
        "    cap = cv2.VideoCapture(video_path)\n",
        "\n",
        "    while(cap.isOpened()):\n",
        "        ret, frame = cap.read()\n",
        "        if ret:\n",
        "            image_resized = cv2.resize(frame, (224, 224))\n",
        "            image_array = np.expand_dims(image_resized, axis=0)\n",
        "            image_preprocessed = preprocess_input(image_array)\n",
        "\n",
        "            predictions = model.predict(image_preprocessed)\n",
        "            decoded_predictions = decode_predictions(predictions, top=5)[0]\n",
        "\n",
        "            print(\"Frame Predictions:\", decoded_predictions)\n",
        "        else:\n",
        "            break\n",
        "\n",
        "    cap.release()\n"
      ],
      "metadata": {
        "id": "G7dICtaoRFjj"
      },
      "execution_count": 15,
      "outputs": []
    },
    {
      "cell_type": "code",
      "source": [
        "\n",
        "# Example for Image Recognition\n",
        "image_path = \"/content/drive/MyDrive/Amazon Hackathon/amazon-2.jpeg\"  # Adjust path to your uploaded image\n",
        "predictions = recognize_image(image_path)\n",
        "print(\"Predictions:\", predictions)\n",
        "\n",
        "# Example for Product Search\n",
        "query_features = np.array([0.15, 0.25, 0.35, 0.45])  # Example feature vector from image recognition\n",
        "search_results = search_product(query_features)\n",
        "print(\"Search Results:\")\n",
        "print(search_results)\n",
        "\n",
        "# Example for Personalized Recommendations\n",
        "user_id = 1\n",
        "recommendations = recommend_products(user_id)\n",
        "print(\"Recommendations for User\", user_id, \":\")\n",
        "print(recommendations)\n",
        "\n",
        "# Example for Item Identification in Video\n",
        "# video_path = \"/content/drive/MyDrive/Amazon Hackathon/6615054-uhd_3840_2160_25fps.mp4\"  # Adjust path to your uploaded video\n",
        "# identify_items_in_video(video_path)\n"
      ],
      "metadata": {
        "colab": {
          "base_uri": "https://localhost:8080/"
        },
        "id": "CwuKjwZ0RH2G",
        "outputId": "163947b6-9373-4890-cd02-697887a41f5b"
      },
      "execution_count": 18,
      "outputs": [
        {
          "output_type": "stream",
          "name": "stdout",
          "text": [
            "1/1 [==============================] - 0s 62ms/step\n",
            "Predictions: [('n04355933', 'sunglass', 0.048297856), ('n03124043', 'cowboy_boot', 0.03995881), ('n02963159', 'cardigan', 0.03707328), ('n03000684', 'chain_saw', 0.0346261), ('n03709823', 'mailbag', 0.03314963)]\n",
            "Search Results:\n",
            "   product_id product_name              features\n",
            "0           1        Shirt  [0.1, 0.2, 0.3, 0.4]\n",
            "1           2        Jeans  [0.2, 0.1, 0.4, 0.3]\n",
            "2           3        Shoes  [0.3, 0.4, 0.1, 0.2]\n",
            "3           4          Hat  [0.4, 0.3, 0.2, 0.1]\n",
            "4           5       Jacket  [0.5, 0.5, 0.5, 0.5]\n",
            "Recommendations for User 1 :\n",
            "   product_id product_name              features\n",
            "0           1        Shirt  [0.1, 0.2, 0.3, 0.4]\n",
            "1           2        Jeans  [0.2, 0.1, 0.4, 0.3]\n",
            "2           3        Shoes  [0.3, 0.4, 0.1, 0.2]\n"
          ]
        }
      ]
    }
  ]
}